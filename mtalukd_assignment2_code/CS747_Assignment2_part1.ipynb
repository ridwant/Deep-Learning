{
 "cells": [
  {
   "cell_type": "markdown",
   "metadata": {},
   "source": [
    "# Assignment 2 Part 1 Introduction: Multi-label Image Classification"
   ]
  },
  {
   "cell_type": "code",
   "execution_count": 13,
   "metadata": {},
   "outputs": [
    {
     "name": "stdout",
     "output_type": "stream",
     "text": [
      "The autoreload extension is already loaded. To reload it, use:\n",
      "  %reload_ext autoreload\n"
     ]
    }
   ],
   "source": [
    "import os\n",
    "import numpy as np\n",
    "import torch\n",
    "import torch.nn as nn\n",
    "import torchvision\n",
    "import sklearn\n",
    "\n",
    "from torchvision import transforms\n",
    "from sklearn.metrics import average_precision_score\n",
    "from PIL import Image, ImageDraw\n",
    "import matplotlib.pyplot as plt\n",
    "from kaggle_submission import output_submission_csv\n",
    "from classifier import SimpleClassifier, Classifier#, AlexNet\n",
    "from voc_dataloader import VocDataset, VOC_CLASSES\n",
    "\n",
    "%matplotlib inline\n",
    "%load_ext autoreload\n",
    "%autoreload 2"
   ]
  },
  {
   "cell_type": "markdown",
   "metadata": {},
   "source": [
    "# Multi-label Classification\n",
    "In this assignment, you train a classifier to do multi-label classificaton on the PASCAL VOC 2007 dataset. The dataset has 20 different class which can appear in any given image. Your classifier will predict whether each class appears in an image. This task is slightly different from exclusive multiclass classification like the ImageNet competition where only a single most appropriate class is predicted for an image.\n",
    "\n",
    "## Part 1\n",
    "You will use this notebook to warm up with pytorch and the code+dataset that we will use for assignment3. \n",
    "\n",
    "### What to do\n",
    "In part 1, You are asked to run below experiments. You don't need to change hyperparameters for this Part 1's experiments. (the following code provides everything that you will need.)\n",
    "1. to train a simple network (defined in ```classifiers.py```) \n",
    "2. to train the AlexNet (PyTorch built-in) \n",
    "    - from scratch \n",
    "    - finetuning AlexNet pretrained on ImageNet\n",
    "\n",
    "\n",
    "    \n",
    "### What to submit\n",
    "We ask you to run the following code and report the results in your homework submission. You may want to leverage this part 1 get yourself familiar with PyTorch.\n",
    "\n",
    "You will the need the numbers and plots this notebook outputs for reports, but you are not required to submit this notebook as a printed pdf. "
   ]
  },
  {
   "cell_type": "markdown",
   "metadata": {},
   "source": [
    "## Reading Pascal Data"
   ]
  },
  {
   "cell_type": "markdown",
   "metadata": {},
   "source": [
    "### Loading Training Data"
   ]
  },
  {
   "cell_type": "markdown",
   "metadata": {},
   "source": [
    "In the following cell we will load the training data and also apply some transforms to the data. "
   ]
  },
  {
   "cell_type": "code",
   "execution_count": 29,
   "metadata": {},
   "outputs": [],
   "source": [
    "# Transforms applied to the training data\n",
    "normalize = transforms.Normalize(mean=[0.485, 0.456, 0.406],\n",
    "                                     std= [0.229, 0.224, 0.225])\n",
    "\n",
    "train_transform = transforms.Compose([\n",
    "            transforms.Resize(227),\n",
    "            transforms.CenterCrop(227),\n",
    "            transforms.ToTensor(),\n",
    "            normalize\n",
    "        ])\n"
   ]
  },
  {
   "cell_type": "code",
   "execution_count": 30,
   "metadata": {},
   "outputs": [],
   "source": [
    "ds_train = VocDataset('VOCdevkit_2007/VOC2007/','train',train_transform)"
   ]
  },
  {
   "cell_type": "markdown",
   "metadata": {},
   "source": [
    "### Loading Validation Data"
   ]
  },
  {
   "cell_type": "markdown",
   "metadata": {},
   "source": [
    "We will load the test data for the PASCAL VOC 2007 dataset. Do __NOT__ add data augmentation transforms to validation data."
   ]
  },
  {
   "cell_type": "code",
   "execution_count": 31,
   "metadata": {},
   "outputs": [],
   "source": [
    "# Transforms applied to the testing data\n",
    "test_transform = transforms.Compose([\n",
    "            transforms.Resize(227),\n",
    "            transforms.CenterCrop(227),\n",
    "            transforms.ToTensor(),\n",
    "            normalize,\n",
    "        ])"
   ]
  },
  {
   "cell_type": "code",
   "execution_count": 32,
   "metadata": {},
   "outputs": [],
   "source": [
    "ds_val = VocDataset('VOCdevkit_2007/VOC2007/','val',test_transform)"
   ]
  },
  {
   "cell_type": "markdown",
   "metadata": {},
   "source": [
    "### Visualizing the Data\n",
    "\n",
    "PASCAL VOC has bounding box annotations in addition to class labels. Use the following code to visualize some random examples and corresponding annotations from the train set. "
   ]
  },
  {
   "cell_type": "code",
   "execution_count": 33,
   "metadata": {},
   "outputs": [
    {
     "ename": "TypeError",
     "evalue": "'numpy.int32' object is not iterable",
     "output_type": "error",
     "traceback": [
      "\u001b[0;31m---------------------------------------------------------------------------\u001b[0m",
      "\u001b[0;31mTypeError\u001b[0m                                 Traceback (most recent call last)",
      "Cell \u001b[0;32mIn[33], line 8\u001b[0m\n\u001b[1;32m      6\u001b[0m \u001b[38;5;28;01mfor\u001b[39;00m j \u001b[38;5;129;01min\u001b[39;00m \u001b[38;5;28mrange\u001b[39m(\u001b[38;5;28mlen\u001b[39m(ds_train\u001b[38;5;241m.\u001b[39mbox_indices[idx])):\n\u001b[1;32m      7\u001b[0m     obj \u001b[38;5;241m=\u001b[39m ds_train\u001b[38;5;241m.\u001b[39mbox_indices[idx][j]\n\u001b[0;32m----> 8\u001b[0m     draw\u001b[38;5;241m.\u001b[39mrectangle(\u001b[38;5;28;43mlist\u001b[39;49m\u001b[43m(\u001b[49m\u001b[43mobj\u001b[49m\u001b[43m)\u001b[49m, outline\u001b[38;5;241m=\u001b[39m(\u001b[38;5;241m255\u001b[39m,\u001b[38;5;241m0\u001b[39m,\u001b[38;5;241m0\u001b[39m))\n\u001b[1;32m      9\u001b[0m     draw\u001b[38;5;241m.\u001b[39mtext(\u001b[38;5;28mlist\u001b[39m(obj[\u001b[38;5;241m0\u001b[39m:\u001b[38;5;241m2\u001b[39m]), ds_train\u001b[38;5;241m.\u001b[39mclasses[ds_train\u001b[38;5;241m.\u001b[39mlabel_order[idx][j]], fill\u001b[38;5;241m=\u001b[39m(\u001b[38;5;241m0\u001b[39m,\u001b[38;5;241m255\u001b[39m,\u001b[38;5;241m0\u001b[39m))\n\u001b[1;32m     10\u001b[0m plt\u001b[38;5;241m.\u001b[39mfigure(figsize \u001b[38;5;241m=\u001b[39m (\u001b[38;5;241m10\u001b[39m,\u001b[38;5;241m10\u001b[39m))\n",
      "\u001b[0;31mTypeError\u001b[0m: 'numpy.int32' object is not iterable"
     ]
    }
   ],
   "source": [
    "for i in range(5):\n",
    "    idx = np.random.randint(0, len(ds_train.names)+1)\n",
    "    _imgpath = os.path.join('VOCdevkit_2007/VOC2007/', 'JPEGImages', ds_train.names[idx]+'.jpg')\n",
    "    img = Image.open(_imgpath).convert('RGB')\n",
    "    draw = ImageDraw.Draw(img)\n",
    "    for j in range(len(ds_train.box_indices[idx])):\n",
    "        obj = ds_train.box_indices[idx][j]\n",
    "        draw.rectangle(list(obj), outline=(255,0,0))\n",
    "        draw.text(list(obj[0:2]), ds_train.classes[ds_train.label_order[idx][j]], fill=(0,255,0))\n",
    "    plt.figure(figsize = (10,10))\n",
    "    plt.imshow(np.array(img))"
   ]
  },
  {
   "cell_type": "markdown",
   "metadata": {},
   "source": [
    "# Classification"
   ]
  },
  {
   "cell_type": "code",
   "execution_count": 34,
   "metadata": {},
   "outputs": [],
   "source": [
    "# declare what device to use: gpu/cpu\n",
    "device = torch.device(\"cuda:0\" if torch.cuda.is_available() else \"cpu\")"
   ]
  },
  {
   "cell_type": "code",
   "execution_count": 35,
   "metadata": {},
   "outputs": [],
   "source": [
    "train_loader = torch.utils.data.DataLoader(dataset=ds_train,\n",
    "                                               batch_size=50, \n",
    "                                               shuffle=True,\n",
    "                                               num_workers=1)"
   ]
  },
  {
   "cell_type": "code",
   "execution_count": 36,
   "metadata": {},
   "outputs": [],
   "source": [
    "val_loader = torch.utils.data.DataLoader(dataset=ds_val,\n",
    "                                               batch_size=50, \n",
    "                                               shuffle=True,\n",
    "                                               num_workers=1)"
   ]
  },
  {
   "cell_type": "code",
   "execution_count": 37,
   "metadata": {},
   "outputs": [],
   "source": [
    "def train_classifier(train_loader, classifier, criterion, optimizer):\n",
    "    classifier.train()\n",
    "    loss_ = 0.0\n",
    "    losses = []\n",
    "    for i, (images, labels) in enumerate(train_loader):\n",
    "        images, labels = images.to(device), labels.to(device)\n",
    "        optimizer.zero_grad()\n",
    "        logits = classifier(images)\n",
    "        loss = criterion(logits, labels)\n",
    "        loss.backward()\n",
    "        optimizer.step()\n",
    "        losses.append(loss)\n",
    "    return torch.stack(losses).mean().item()"
   ]
  },
  {
   "cell_type": "code",
   "execution_count": 38,
   "metadata": {},
   "outputs": [],
   "source": [
    "def test_classifier(test_loader, classifier, criterion, print_ind_classes=True, print_total=True):\n",
    "    classifier.eval()\n",
    "    losses = []\n",
    "    with torch.no_grad():\n",
    "        y_true = np.zeros((0,21))\n",
    "        y_score = np.zeros((0,21))\n",
    "        for i, (images, labels) in enumerate(test_loader):\n",
    "            images, labels = images.to(device), labels.to(device)\n",
    "            logits = classifier(images)\n",
    "            y_true = np.concatenate((y_true, labels.cpu().numpy()), axis=0)\n",
    "            y_score = np.concatenate((y_score, logits.cpu().numpy()), axis=0)\n",
    "            loss = criterion(logits, labels)\n",
    "            losses.append(loss.item())\n",
    "        aps = []\n",
    "        # ignore first class which is background\n",
    "        for i in range(1, y_true.shape[1]):\n",
    "            ap = average_precision_score(y_true[:, i], y_score[:, i])\n",
    "            if print_ind_classes:\n",
    "                print('-------  Class: {:<12}     AP: {:>8.4f}  -------'.format(VOC_CLASSES[i], ap))\n",
    "            aps.append(ap)\n",
    "        \n",
    "        mAP = np.mean(aps)\n",
    "        test_loss = np.mean(losses)\n",
    "        if print_total:\n",
    "            print('mAP: {0:.4f}'.format(mAP))\n",
    "            print('Avg loss: {}'.format(test_loss))\n",
    "        \n",
    "    return mAP, test_loss, aps"
   ]
  },
  {
   "cell_type": "code",
   "execution_count": 39,
   "metadata": {},
   "outputs": [],
   "source": [
    "# plot functions\n",
    "def plot_losses(train, val, test_frequency, num_epochs):\n",
    "    plt.plot(train, label=\"train\")\n",
    "    indices = [i for i in range(num_epochs) if ((i+1)%test_frequency == 0 or i ==0)]\n",
    "    plt.plot(indices, val, label=\"val\")\n",
    "    plt.title(\"Loss Plot\")\n",
    "    plt.ylabel(\"Loss\")\n",
    "    plt.xlabel(\"Epoch\")\n",
    "    plt.legend()\n",
    "    plt.show()\n",
    "    \n",
    "def plot_mAP(train, val, test_frequency, num_epochs):\n",
    "    indices = [i for i in range(num_epochs) if ((i+1)%test_frequency == 0 or i ==0)]\n",
    "    plt.plot(indices, train, label=\"train\")\n",
    "    plt.plot(indices, val, label=\"val\")\n",
    "    plt.title(\"mAP Plot\")\n",
    "    plt.ylabel(\"mAP\")\n",
    "    plt.xlabel(\"Epoch\")\n",
    "    plt.legend()\n",
    "    plt.show()\n",
    "    "
   ]
  },
  {
   "cell_type": "markdown",
   "metadata": {},
   "source": [
    "## Training the network \n",
    "\n",
    "The simple network you are given as is will allow you to reach around 0.15-0.2 mAP. In this project, you will find ways to design a better network. Save plots and final test mAP scores as you will be adding these to the writeup."
   ]
  },
  {
   "cell_type": "code",
   "execution_count": 40,
   "metadata": {},
   "outputs": [],
   "source": [
    "def train(classifier, num_epochs, train_loader, val_loader, criterion, optimizer, test_frequency=5):\n",
    "    train_losses = []\n",
    "    train_mAPs = []\n",
    "    val_losses = []\n",
    "    val_mAPs = []\n",
    "\n",
    "    for epoch in range(1,num_epochs+1):\n",
    "        print(\"Starting epoch number \" + str(epoch))\n",
    "        train_loss = train_classifier(train_loader, classifier, criterion, optimizer)\n",
    "        train_losses.append(train_loss)\n",
    "        print(\"Loss for Training on Epoch \" +str(epoch) + \" is \"+ str(train_loss))\n",
    "        if(epoch%test_frequency==0 or epoch==1):\n",
    "            mAP_train, _, _ = test_classifier(train_loader, classifier, criterion, False, False)\n",
    "            train_mAPs.append(mAP_train)\n",
    "            mAP_val, val_loss, _ = test_classifier(val_loader, classifier, criterion)\n",
    "            print('Evaluating classifier')\n",
    "            print(\"Mean Precision Score for Testing on Epoch \" +str(epoch) + \" is \"+ str(mAP_val))\n",
    "            val_losses.append(val_loss)\n",
    "            val_mAPs.append(mAP_val)\n",
    "    \n",
    "    return classifier, train_losses, val_losses, train_mAPs, val_mAPs"
   ]
  },
  {
   "cell_type": "code",
   "execution_count": 41,
   "metadata": {},
   "outputs": [],
   "source": [
    "classifier = SimpleClassifier().to(device)\n",
    "# You can can use this function to reload a network you have already saved previously\n",
    "#classifier.load_state_dict(torch.load('voc_classifier.pth'))"
   ]
  },
  {
   "cell_type": "code",
   "execution_count": 42,
   "metadata": {},
   "outputs": [],
   "source": [
    "criterion = nn.MultiLabelSoftMarginLoss()\n",
    "optimizer = torch.optim.SGD(classifier.parameters(), lr=0.01, momentum=0.9)"
   ]
  },
  {
   "cell_type": "code",
   "execution_count": 43,
   "metadata": {
    "scrolled": true
   },
   "outputs": [
    {
     "name": "stdout",
     "output_type": "stream",
     "text": [
      "Starting epoch number 1\n",
      "Loss for Training on Epoch 1 is 0.45057353377342224\n",
      "-------  Class: aeroplane        AP:   0.0628  -------\n",
      "-------  Class: bicycle          AP:   0.0431  -------\n",
      "-------  Class: bird             AP:   0.1099  -------\n",
      "-------  Class: boat             AP:   0.0582  -------\n",
      "-------  Class: bottle           AP:   0.0513  -------\n",
      "-------  Class: bus              AP:   0.0269  -------\n",
      "-------  Class: car              AP:   0.1065  -------\n",
      "-------  Class: cat              AP:   0.1044  -------\n",
      "-------  Class: chair            AP:   0.1393  -------\n",
      "-------  Class: cow              AP:   0.0300  -------\n",
      "-------  Class: diningtable      AP:   0.0659  -------\n",
      "-------  Class: dog              AP:   0.1339  -------\n",
      "-------  Class: horse            AP:   0.0498  -------\n",
      "-------  Class: motorbike        AP:   0.0416  -------\n",
      "-------  Class: person           AP:   0.3637  -------\n",
      "-------  Class: pottedplant      AP:   0.0496  -------\n",
      "-------  Class: sheep            AP:   0.0258  -------\n",
      "-------  Class: sofa             AP:   0.1164  -------\n",
      "-------  Class: train            AP:   0.0348  -------\n",
      "-------  Class: tvmonitor        AP:   0.0524  -------\n",
      "mAP: 0.0833\n",
      "Avg loss: 0.2503816108493244\n",
      "Evaluating classifier\n",
      "Mean Precision Score for Testing on Epoch 1 is 0.08331882354966533\n",
      "Starting epoch number 2\n",
      "Loss for Training on Epoch 2 is 0.24598348140716553\n",
      "Starting epoch number 3\n",
      "Loss for Training on Epoch 3 is 0.2434605360031128\n",
      "Starting epoch number 4\n",
      "Loss for Training on Epoch 4 is 0.23987099528312683\n",
      "Starting epoch number 5\n",
      "Loss for Training on Epoch 5 is 0.24457569420337677\n",
      "-------  Class: aeroplane        AP:   0.1046  -------\n",
      "-------  Class: bicycle          AP:   0.0427  -------\n",
      "-------  Class: bird             AP:   0.1139  -------\n",
      "-------  Class: boat             AP:   0.0727  -------\n",
      "-------  Class: bottle           AP:   0.0471  -------\n",
      "-------  Class: bus              AP:   0.0279  -------\n",
      "-------  Class: car              AP:   0.1331  -------\n",
      "-------  Class: cat              AP:   0.1080  -------\n",
      "-------  Class: chair            AP:   0.1353  -------\n",
      "-------  Class: cow              AP:   0.0333  -------\n",
      "-------  Class: diningtable      AP:   0.0603  -------\n",
      "-------  Class: dog              AP:   0.1350  -------\n",
      "-------  Class: horse            AP:   0.0514  -------\n",
      "-------  Class: motorbike        AP:   0.0406  -------\n",
      "-------  Class: person           AP:   0.4793  -------\n",
      "-------  Class: pottedplant      AP:   0.0481  -------\n",
      "-------  Class: sheep            AP:   0.0294  -------\n",
      "-------  Class: sofa             AP:   0.1128  -------\n",
      "-------  Class: train            AP:   0.0366  -------\n",
      "-------  Class: tvmonitor        AP:   0.0537  -------\n",
      "mAP: 0.0933\n",
      "Avg loss: 0.2386272292511136\n",
      "Evaluating classifier\n",
      "Mean Precision Score for Testing on Epoch 5 is 0.0932876401365706\n",
      "Starting epoch number 6\n",
      "Loss for Training on Epoch 6 is 0.2398737072944641\n",
      "Starting epoch number 7\n",
      "Loss for Training on Epoch 7 is 0.24009564518928528\n",
      "Starting epoch number 8\n",
      "Loss for Training on Epoch 8 is 0.23661205172538757\n",
      "Starting epoch number 9\n",
      "Loss for Training on Epoch 9 is 0.2329684942960739\n",
      "Starting epoch number 10\n",
      "Loss for Training on Epoch 10 is 0.23454247415065765\n",
      "-------  Class: aeroplane        AP:   0.2872  -------\n",
      "-------  Class: bicycle          AP:   0.0518  -------\n",
      "-------  Class: bird             AP:   0.1181  -------\n",
      "-------  Class: boat             AP:   0.1717  -------\n",
      "-------  Class: bottle           AP:   0.0701  -------\n",
      "-------  Class: bus              AP:   0.0375  -------\n",
      "-------  Class: car              AP:   0.1881  -------\n",
      "-------  Class: cat              AP:   0.1176  -------\n",
      "-------  Class: chair            AP:   0.1859  -------\n",
      "-------  Class: cow              AP:   0.0405  -------\n",
      "-------  Class: diningtable      AP:   0.0918  -------\n",
      "-------  Class: dog              AP:   0.1393  -------\n",
      "-------  Class: horse            AP:   0.0682  -------\n",
      "-------  Class: motorbike        AP:   0.0428  -------\n",
      "-------  Class: person           AP:   0.4452  -------\n",
      "-------  Class: pottedplant      AP:   0.0556  -------\n",
      "-------  Class: sheep            AP:   0.0346  -------\n",
      "-------  Class: sofa             AP:   0.1495  -------\n",
      "-------  Class: train            AP:   0.0652  -------\n",
      "-------  Class: tvmonitor        AP:   0.0597  -------\n",
      "mAP: 0.1210\n",
      "Avg loss: 0.23106198217354568\n",
      "Evaluating classifier\n",
      "Mean Precision Score for Testing on Epoch 10 is 0.12103075070870584\n",
      "Starting epoch number 11\n",
      "Loss for Training on Epoch 11 is 0.22946368157863617\n",
      "Starting epoch number 12\n",
      "Loss for Training on Epoch 12 is 0.2287682294845581\n",
      "Starting epoch number 13\n",
      "Loss for Training on Epoch 13 is 0.2247680276632309\n",
      "Starting epoch number 14\n",
      "Loss for Training on Epoch 14 is 0.22339089214801788\n",
      "Starting epoch number 15\n",
      "Loss for Training on Epoch 15 is 0.22300682961940765\n",
      "-------  Class: aeroplane        AP:   0.3362  -------\n",
      "-------  Class: bicycle          AP:   0.0605  -------\n",
      "-------  Class: bird             AP:   0.1177  -------\n",
      "-------  Class: boat             AP:   0.2172  -------\n",
      "-------  Class: bottle           AP:   0.0744  -------\n",
      "-------  Class: bus              AP:   0.0633  -------\n",
      "-------  Class: car              AP:   0.2128  -------\n",
      "-------  Class: cat              AP:   0.1355  -------\n",
      "-------  Class: chair            AP:   0.2235  -------\n",
      "-------  Class: cow              AP:   0.0479  -------\n",
      "-------  Class: diningtable      AP:   0.1318  -------\n",
      "-------  Class: dog              AP:   0.1466  -------\n",
      "-------  Class: horse            AP:   0.1055  -------\n",
      "-------  Class: motorbike        AP:   0.0541  -------\n",
      "-------  Class: person           AP:   0.5079  -------\n",
      "-------  Class: pottedplant      AP:   0.0593  -------\n",
      "-------  Class: sheep            AP:   0.0401  -------\n",
      "-------  Class: sofa             AP:   0.1624  -------\n",
      "-------  Class: train            AP:   0.1255  -------\n",
      "-------  Class: tvmonitor        AP:   0.0827  -------\n",
      "mAP: 0.1452\n",
      "Avg loss: 0.2231938210772533\n",
      "Evaluating classifier\n",
      "Mean Precision Score for Testing on Epoch 15 is 0.14523798767164592\n",
      "Starting epoch number 16\n",
      "Loss for Training on Epoch 16 is 0.22014528512954712\n",
      "Starting epoch number 17\n",
      "Loss for Training on Epoch 17 is 0.22132311761379242\n",
      "Starting epoch number 18\n",
      "Loss for Training on Epoch 18 is 0.21883751451969147\n",
      "Starting epoch number 19\n",
      "Loss for Training on Epoch 19 is 0.21959955990314484\n",
      "Starting epoch number 20\n",
      "Loss for Training on Epoch 20 is 0.22101767361164093\n",
      "-------  Class: aeroplane        AP:   0.3412  -------\n",
      "-------  Class: bicycle          AP:   0.0668  -------\n",
      "-------  Class: bird             AP:   0.1149  -------\n",
      "-------  Class: boat             AP:   0.1973  -------\n",
      "-------  Class: bottle           AP:   0.0845  -------\n",
      "-------  Class: bus              AP:   0.0702  -------\n",
      "-------  Class: car              AP:   0.2646  -------\n",
      "-------  Class: cat              AP:   0.1453  -------\n",
      "-------  Class: chair            AP:   0.2457  -------\n",
      "-------  Class: cow              AP:   0.0591  -------\n",
      "-------  Class: diningtable      AP:   0.1605  -------\n",
      "-------  Class: dog              AP:   0.1543  -------\n",
      "-------  Class: horse            AP:   0.1354  -------\n",
      "-------  Class: motorbike        AP:   0.0703  -------\n",
      "-------  Class: person           AP:   0.5023  -------\n",
      "-------  Class: pottedplant      AP:   0.0655  -------\n",
      "-------  Class: sheep            AP:   0.0384  -------\n",
      "-------  Class: sofa             AP:   0.1804  -------\n",
      "-------  Class: train            AP:   0.1627  -------\n",
      "-------  Class: tvmonitor        AP:   0.0983  -------\n",
      "mAP: 0.1579\n",
      "Avg loss: 0.22122633281876058\n",
      "Evaluating classifier\n",
      "Mean Precision Score for Testing on Epoch 20 is 0.15788462551775095\n"
     ]
    }
   ],
   "source": [
    "# Training the Classifier\n",
    "num_epochs = 20\n",
    "test_frequency = 5\n",
    "\n",
    "classifier, train_losses, val_losses, train_mAPs, val_mAPs = train(classifier, num_epochs, train_loader, val_loader, criterion, optimizer, test_frequency)\n"
   ]
  },
  {
   "cell_type": "code",
   "execution_count": 44,
   "metadata": {},
   "outputs": [
    {
     "data": {
      "image/png": "[encoded data removed]",
      "text/plain": [
       "<Figure size 640x480 with 1 Axes>"
      ]
     },
     "metadata": {},
     "output_type": "display_data"
    },
    {
     "data": {
      "image/png": "[encoded data removed]",
      "text/plain": [
       "<Figure size 640x480 with 1 Axes>"
      ]
     },
     "metadata": {},
     "output_type": "display_data"
    }
   ],
   "source": [
    "# Compare train and validation metrics\n",
    "plot_losses(train_losses, val_losses, test_frequency, num_epochs)\n",
    "plot_mAP(train_mAPs, val_mAPs, test_frequency, num_epochs)"
   ]
  },
  {
   "cell_type": "code",
   "execution_count": 45,
   "metadata": {},
   "outputs": [],
   "source": [
    "# Save the clssifier network\n",
    "# Suggestion: you can save checkpoints of your network during training and reload them later\n",
    "torch.save(classifier.state_dict(), './voc_simple_classifier.pth')"
   ]
  },
  {
   "cell_type": "markdown",
   "metadata": {},
   "source": [
    "# Evaluate on test set\n",
    "\n"
   ]
  },
  {
   "cell_type": "code",
   "execution_count": 46,
   "metadata": {},
   "outputs": [
    {
     "name": "stdout",
     "output_type": "stream",
     "text": [
      "-------  Class: aeroplane        AP:   0.3294  -------\n",
      "-------  Class: bicycle          AP:   0.0638  -------\n",
      "-------  Class: bird             AP:   0.1171  -------\n",
      "-------  Class: boat             AP:   0.1482  -------\n",
      "-------  Class: bottle           AP:   0.0767  -------\n",
      "-------  Class: bus              AP:   0.0585  -------\n",
      "-------  Class: car              AP:   0.3030  -------\n",
      "-------  Class: cat              AP:   0.1289  -------\n",
      "-------  Class: chair            AP:   0.2360  -------\n",
      "-------  Class: cow              AP:   0.0594  -------\n",
      "-------  Class: diningtable      AP:   0.1069  -------\n",
      "-------  Class: dog              AP:   0.1627  -------\n",
      "-------  Class: horse            AP:   0.1485  -------\n",
      "-------  Class: motorbike        AP:   0.0744  -------\n",
      "-------  Class: person           AP:   0.5105  -------\n",
      "-------  Class: pottedplant      AP:   0.0622  -------\n",
      "-------  Class: sheep            AP:   0.0690  -------\n",
      "-------  Class: sofa             AP:   0.1815  -------\n",
      "-------  Class: train            AP:   0.1634  -------\n",
      "-------  Class: tvmonitor        AP:   0.0898  -------\n",
      "mAP: 0.1545\n",
      "Avg loss: 0.21837507262825967\n"
     ]
    }
   ],
   "source": [
    "ds_test = VocDataset('VOCdevkit_2007/VOC2007test/','test', test_transform)\n",
    "\n",
    "test_loader = torch.utils.data.DataLoader(dataset=ds_test,\n",
    "                                               batch_size=50, \n",
    "                                               shuffle=False,\n",
    "                                               num_workers=1)\n",
    "\n",
    "# Transforms applied to the testing data\n",
    "test_transform = transforms.Compose([\n",
    "            transforms.Resize(227),\n",
    "            transforms.CenterCrop(227),\n",
    "            transforms.ToTensor(),\n",
    "            normalize,\n",
    "        ])\n",
    "\n",
    "mAP_test, test_loss, test_aps = test_classifier(test_loader, classifier, criterion)"
   ]
  },
  {
   "cell_type": "code",
   "execution_count": 47,
   "metadata": {},
   "outputs": [],
   "source": [
    "output_submission_csv('my_solution.csv', test_aps)"
   ]
  },
  {
   "cell_type": "markdown",
   "metadata": {},
   "source": [
    "# AlexNet Baselines (From Scratch)"
   ]
  },
  {
   "cell_type": "markdown",
   "metadata": {},
   "source": [
    "AlexNet was one of the earliest deep learning models to have success in classification. In this section we will be running classification with AlexNet as a baseline. Furthermore, we will run an ImageNet-pretrained AlexNet to observe the impact of well-trained features. Save plots and final test mAP scores as you will be adding these to the writeup."
   ]
  },
  {
   "cell_type": "markdown",
   "metadata": {},
   "source": [
    "## Running AlexNet\n",
    "\n",
    "In this section, we train AlexNet from scratch using the same hyperparameters as our previous experiment."
   ]
  },
  {
   "cell_type": "code",
   "execution_count": 48,
   "metadata": {
    "scrolled": true
   },
   "outputs": [
    {
     "name": "stderr",
     "output_type": "stream",
     "text": [
      "/home/ridwan/cs697/cs697venv/lib/python3.10/site-packages/torchvision/models/_utils.py:208: UserWarning: The parameter 'pretrained' is deprecated since 0.13 and may be removed in the future, please use 'weights' instead.\n",
      "  warnings.warn(\n",
      "/home/ridwan/cs697/cs697venv/lib/python3.10/site-packages/torchvision/models/_utils.py:223: UserWarning: Arguments other than a weight enum or `None` for 'weights' are deprecated since 0.13 and may be removed in the future. The current behavior is equivalent to passing `weights=None`.\n",
      "  warnings.warn(msg)\n"
     ]
    }
   ],
   "source": [
    "num_epochs = 20\n",
    "test_frequency = 5\n",
    "\n",
    "# Change classifier to AlexNet\n",
    "classifier = torchvision.models.alexnet(pretrained=False)\n",
    "classifier.classifier._modules['6'] = nn.Linear(4096, 21)   \n",
    "classifier = classifier.to(device)\n",
    "\n",
    "criterion = nn.MultiLabelSoftMarginLoss()\n",
    "\n",
    "optimizer = torch.optim.SGD(classifier.parameters(), lr=0.01, momentum=0.9)"
   ]
  },
  {
   "cell_type": "code",
   "execution_count": 49,
   "metadata": {},
   "outputs": [
    {
     "name": "stdout",
     "output_type": "stream",
     "text": [
      "Starting epoch number 1\n",
      "Loss for Training on Epoch 1 is 0.5895107984542847\n",
      "-------  Class: aeroplane        AP:   0.1246  -------\n",
      "-------  Class: bicycle          AP:   0.0444  -------\n",
      "-------  Class: bird             AP:   0.1113  -------\n",
      "-------  Class: boat             AP:   0.1199  -------\n",
      "-------  Class: bottle           AP:   0.0397  -------\n",
      "-------  Class: bus              AP:   0.0292  -------\n",
      "-------  Class: car              AP:   0.1105  -------\n",
      "-------  Class: cat              AP:   0.0928  -------\n",
      "-------  Class: chair            AP:   0.1111  -------\n",
      "-------  Class: cow              AP:   0.0353  -------\n",
      "-------  Class: diningtable      AP:   0.0494  -------\n",
      "-------  Class: dog              AP:   0.1115  -------\n",
      "-------  Class: horse            AP:   0.0463  -------\n",
      "-------  Class: motorbike        AP:   0.0357  -------\n",
      "-------  Class: person           AP:   0.4649  -------\n",
      "-------  Class: pottedplant      AP:   0.0431  -------\n",
      "-------  Class: sheep            AP:   0.0359  -------\n",
      "-------  Class: sofa             AP:   0.0882  -------\n",
      "-------  Class: train            AP:   0.0395  -------\n",
      "-------  Class: tvmonitor        AP:   0.0473  -------\n",
      "mAP: 0.0890\n",
      "Avg loss: 0.2723973939816157\n",
      "Evaluating classifier\n",
      "Mean Precision Score for Testing on Epoch 1 is 0.08902655836723758\n",
      "Starting epoch number 2\n",
      "Loss for Training on Epoch 2 is 0.25264260172843933\n",
      "Starting epoch number 3\n",
      "Loss for Training on Epoch 3 is 0.2454104721546173\n",
      "Starting epoch number 4\n",
      "Loss for Training on Epoch 4 is 0.24394290149211884\n",
      "Starting epoch number 5\n",
      "Loss for Training on Epoch 5 is 0.24915355443954468\n",
      "-------  Class: aeroplane        AP:   0.0845  -------\n",
      "-------  Class: bicycle          AP:   0.0446  -------\n",
      "-------  Class: bird             AP:   0.1172  -------\n",
      "-------  Class: boat             AP:   0.0920  -------\n",
      "-------  Class: bottle           AP:   0.0440  -------\n",
      "-------  Class: bus              AP:   0.0285  -------\n",
      "-------  Class: car              AP:   0.1140  -------\n",
      "-------  Class: cat              AP:   0.0961  -------\n",
      "-------  Class: chair            AP:   0.1247  -------\n",
      "-------  Class: cow              AP:   0.0350  -------\n",
      "-------  Class: diningtable      AP:   0.0566  -------\n",
      "-------  Class: dog              AP:   0.1193  -------\n",
      "-------  Class: horse            AP:   0.0483  -------\n",
      "-------  Class: motorbike        AP:   0.0373  -------\n",
      "-------  Class: person           AP:   0.3701  -------\n",
      "-------  Class: pottedplant      AP:   0.0467  -------\n",
      "-------  Class: sheep            AP:   0.0430  -------\n",
      "-------  Class: sofa             AP:   0.0992  -------\n",
      "-------  Class: train            AP:   0.0397  -------\n",
      "-------  Class: tvmonitor        AP:   0.0487  -------\n",
      "mAP: 0.0845\n",
      "Avg loss: 0.2478501928203246\n",
      "Evaluating classifier\n",
      "Mean Precision Score for Testing on Epoch 5 is 0.08447287089006932\n",
      "Starting epoch number 6\n",
      "Loss for Training on Epoch 6 is 0.24591828882694244\n",
      "Starting epoch number 7\n",
      "Loss for Training on Epoch 7 is 0.24196450412273407\n",
      "Starting epoch number 8\n",
      "Loss for Training on Epoch 8 is 0.24272498488426208\n",
      "Starting epoch number 9\n",
      "Loss for Training on Epoch 9 is 0.2413259893655777\n",
      "Starting epoch number 10\n",
      "Loss for Training on Epoch 10 is 0.24517275393009186\n",
      "-------  Class: aeroplane        AP:   0.0861  -------\n",
      "-------  Class: bicycle          AP:   0.0480  -------\n",
      "-------  Class: bird             AP:   0.1197  -------\n",
      "-------  Class: boat             AP:   0.0933  -------\n",
      "-------  Class: bottle           AP:   0.0410  -------\n",
      "-------  Class: bus              AP:   0.0299  -------\n",
      "-------  Class: car              AP:   0.1191  -------\n",
      "-------  Class: cat              AP:   0.0931  -------\n",
      "-------  Class: chair            AP:   0.1252  -------\n",
      "-------  Class: cow              AP:   0.0359  -------\n",
      "-------  Class: diningtable      AP:   0.0547  -------\n",
      "-------  Class: dog              AP:   0.1211  -------\n",
      "-------  Class: horse            AP:   0.0504  -------\n",
      "-------  Class: motorbike        AP:   0.0389  -------\n",
      "-------  Class: person           AP:   0.3923  -------\n",
      "-------  Class: pottedplant      AP:   0.0486  -------\n",
      "-------  Class: sheep            AP:   0.0436  -------\n",
      "-------  Class: sofa             AP:   0.0955  -------\n",
      "-------  Class: train            AP:   0.0416  -------\n",
      "-------  Class: tvmonitor        AP:   0.0502  -------\n",
      "mAP: 0.0864\n",
      "Avg loss: 0.24969308662648296\n",
      "Evaluating classifier\n",
      "Mean Precision Score for Testing on Epoch 10 is 0.08641463216986127\n",
      "Starting epoch number 11\n",
      "Loss for Training on Epoch 11 is 0.24451471865177155\n",
      "Starting epoch number 12\n",
      "Loss for Training on Epoch 12 is 0.24008235335350037\n",
      "Starting epoch number 13\n",
      "Loss for Training on Epoch 13 is 0.24121125042438507\n",
      "Starting epoch number 14\n",
      "Loss for Training on Epoch 14 is 0.23997026681900024\n",
      "Starting epoch number 15\n",
      "Loss for Training on Epoch 15 is 0.23941123485565186\n",
      "-------  Class: aeroplane        AP:   0.0773  -------\n",
      "-------  Class: bicycle          AP:   0.0513  -------\n",
      "-------  Class: bird             AP:   0.1257  -------\n",
      "-------  Class: boat             AP:   0.0840  -------\n",
      "-------  Class: bottle           AP:   0.0422  -------\n",
      "-------  Class: bus              AP:   0.0310  -------\n",
      "-------  Class: car              AP:   0.1257  -------\n",
      "-------  Class: cat              AP:   0.0914  -------\n",
      "-------  Class: chair            AP:   0.1337  -------\n",
      "-------  Class: cow              AP:   0.0363  -------\n",
      "-------  Class: diningtable      AP:   0.0574  -------\n",
      "-------  Class: dog              AP:   0.1211  -------\n",
      "-------  Class: horse            AP:   0.0534  -------\n",
      "-------  Class: motorbike        AP:   0.0424  -------\n",
      "-------  Class: person           AP:   0.4313  -------\n",
      "-------  Class: pottedplant      AP:   0.0517  -------\n",
      "-------  Class: sheep            AP:   0.0476  -------\n",
      "-------  Class: sofa             AP:   0.0957  -------\n",
      "-------  Class: train            AP:   0.0436  -------\n",
      "-------  Class: tvmonitor        AP:   0.0511  -------\n",
      "mAP: 0.0897\n",
      "Avg loss: 0.23609264954632403\n",
      "Evaluating classifier\n",
      "Mean Precision Score for Testing on Epoch 15 is 0.08970604703367635\n",
      "Starting epoch number 16\n",
      "Loss for Training on Epoch 16 is 0.2403714507818222\n",
      "Starting epoch number 17\n",
      "Loss for Training on Epoch 17 is 0.2390826791524887\n",
      "Starting epoch number 18\n",
      "Loss for Training on Epoch 18 is 0.2412009984254837\n",
      "Starting epoch number 19\n",
      "Loss for Training on Epoch 19 is 0.23788292706012726\n",
      "Starting epoch number 20\n",
      "Loss for Training on Epoch 20 is 0.23597517609596252\n",
      "-------  Class: aeroplane        AP:   0.1077  -------\n",
      "-------  Class: bicycle          AP:   0.0560  -------\n",
      "-------  Class: bird             AP:   0.1313  -------\n",
      "-------  Class: boat             AP:   0.0960  -------\n",
      "-------  Class: bottle           AP:   0.0485  -------\n",
      "-------  Class: bus              AP:   0.0345  -------\n",
      "-------  Class: car              AP:   0.1558  -------\n",
      "-------  Class: cat              AP:   0.0938  -------\n",
      "-------  Class: chair            AP:   0.1531  -------\n",
      "-------  Class: cow              AP:   0.0379  -------\n",
      "-------  Class: diningtable      AP:   0.0683  -------\n",
      "-------  Class: dog              AP:   0.1225  -------\n",
      "-------  Class: horse            AP:   0.0560  -------\n",
      "-------  Class: motorbike        AP:   0.0454  -------\n",
      "-------  Class: person           AP:   0.4984  -------\n",
      "-------  Class: pottedplant      AP:   0.0582  -------\n",
      "-------  Class: sheep            AP:   0.0483  -------\n",
      "-------  Class: sofa             AP:   0.1036  -------\n",
      "-------  Class: train            AP:   0.0530  -------\n",
      "-------  Class: tvmonitor        AP:   0.0521  -------\n",
      "mAP: 0.1010\n",
      "Avg loss: 0.234849745444223\n",
      "Evaluating classifier\n",
      "Mean Precision Score for Testing on Epoch 20 is 0.10102123545873562\n"
     ]
    }
   ],
   "source": [
    "classifier, train_losses, val_losses, train_mAPs, val_mAPs = train(classifier, num_epochs, train_loader, val_loader, criterion, optimizer, test_frequency)"
   ]
  },
  {
   "cell_type": "code",
   "execution_count": 50,
   "metadata": {},
   "outputs": [
    {
     "data": {
      "image/png": "[encoded data removed]",
      "text/plain": [
       "<Figure size 640x480 with 1 Axes>"
      ]
     },
     "metadata": {},
     "output_type": "display_data"
    },
    {
     "data": {
      "image/png": "[encoded data removed]",
      "text/plain": [
       "<Figure size 640x480 with 1 Axes>"
      ]
     },
     "metadata": {},
     "output_type": "display_data"
    }
   ],
   "source": [
    "plot_losses(train_losses, val_losses, test_frequency, num_epochs)\n",
    "plot_mAP(train_mAPs, val_mAPs, test_frequency, num_epochs)"
   ]
  },
  {
   "cell_type": "code",
   "execution_count": 51,
   "metadata": {},
   "outputs": [
    {
     "name": "stdout",
     "output_type": "stream",
     "text": [
      "-------  Class: aeroplane        AP:   0.0820  -------\n",
      "-------  Class: bicycle          AP:   0.0552  -------\n",
      "-------  Class: bird             AP:   0.1032  -------\n",
      "-------  Class: boat             AP:   0.0691  -------\n",
      "-------  Class: bottle           AP:   0.0485  -------\n",
      "-------  Class: bus              AP:   0.0325  -------\n",
      "-------  Class: car              AP:   0.1513  -------\n",
      "-------  Class: cat              AP:   0.0910  -------\n",
      "-------  Class: chair            AP:   0.1402  -------\n",
      "-------  Class: cow              AP:   0.0429  -------\n",
      "-------  Class: diningtable      AP:   0.0564  -------\n",
      "-------  Class: dog              AP:   0.1271  -------\n",
      "-------  Class: horse            AP:   0.0536  -------\n",
      "-------  Class: motorbike        AP:   0.0410  -------\n",
      "-------  Class: person           AP:   0.5011  -------\n",
      "-------  Class: pottedplant      AP:   0.0515  -------\n",
      "-------  Class: sheep            AP:   0.0600  -------\n",
      "-------  Class: sofa             AP:   0.1060  -------\n",
      "-------  Class: train            AP:   0.0580  -------\n",
      "-------  Class: tvmonitor        AP:   0.0496  -------\n",
      "mAP: 0.0960\n",
      "Avg loss: 0.2314620892703533\n",
      "Test mAP:  0.0960118526039917\n"
     ]
    }
   ],
   "source": [
    "mAP_test, test_loss, test_aps = test_classifier(test_loader, classifier, criterion)\n",
    "print(\"Test mAP: \", mAP_test)"
   ]
  },
  {
   "cell_type": "markdown",
   "metadata": {},
   "source": [
    "You should notice somewhat poor performance. You could try running AlexNet with an Adam optimizer instead with learning rate 1e-4 to see if that makes a difference. This experiment is not required for the writeup, but it may show you the importance of a good learning rate and optimizer."
   ]
  },
  {
   "cell_type": "markdown",
   "metadata": {},
   "source": [
    "## Pretrained AlexNet"
   ]
  },
  {
   "cell_type": "markdown",
   "metadata": {},
   "source": [
    "Here we look at the impact of pretrained features. This model's weights were trained on ImageNet, which is a much larger dataset. How do pretrained features perform on VOC? Why do you think there is such a large difference in performance?"
   ]
  },
  {
   "cell_type": "code",
   "execution_count": 52,
   "metadata": {},
   "outputs": [
    {
     "name": "stderr",
     "output_type": "stream",
     "text": [
      "/home/ridwan/cs697/cs697venv/lib/python3.10/site-packages/torchvision/models/_utils.py:208: UserWarning: The parameter 'pretrained' is deprecated since 0.13 and may be removed in the future, please use 'weights' instead.\n",
      "  warnings.warn(\n",
      "/home/ridwan/cs697/cs697venv/lib/python3.10/site-packages/torchvision/models/_utils.py:223: UserWarning: Arguments other than a weight enum or `None` for 'weights' are deprecated since 0.13 and may be removed in the future. The current behavior is equivalent to passing `weights=AlexNet_Weights.IMAGENET1K_V1`. You can also use `weights=AlexNet_Weights.DEFAULT` to get the most up-to-date weights.\n",
      "  warnings.warn(msg)\n",
      "Downloading: \"https://download.pytorch.org/models/alexnet-owt-7be5be79.pth\" to /home/ridwan/.cache/torch/hub/checkpoints/alexnet-owt-7be5be79.pth\n",
      "100.0%\n"
     ]
    }
   ],
   "source": [
    "num_epochs = 20\n",
    "test_frequency = 5\n",
    "\n",
    "# Load Pretrained AlexNet\n",
    "classifier = torchvision.models.alexnet(pretrained=True)\n",
    "classifier.classifier._modules['6'] = nn.Linear(4096, 21)   \n",
    "classifier = classifier.to(device)\n",
    "optimizer = torch.optim.SGD(classifier.parameters(), lr=0.01, momentum=0.9)"
   ]
  },
  {
   "cell_type": "code",
   "execution_count": 53,
   "metadata": {},
   "outputs": [
    {
     "name": "stdout",
     "output_type": "stream",
     "text": [
      "Starting epoch number 1\n",
      "Loss for Training on Epoch 1 is 0.22264990210533142\n",
      "-------  Class: aeroplane        AP:   0.7835  -------\n",
      "-------  Class: bicycle          AP:   0.5620  -------\n",
      "-------  Class: bird             AP:   0.7611  -------\n",
      "-------  Class: boat             AP:   0.6694  -------\n",
      "-------  Class: bottle           AP:   0.2117  -------\n",
      "-------  Class: bus              AP:   0.4330  -------\n",
      "-------  Class: car              AP:   0.7659  -------\n",
      "-------  Class: cat              AP:   0.6972  -------\n",
      "-------  Class: chair            AP:   0.5858  -------\n",
      "-------  Class: cow              AP:   0.3533  -------\n",
      "-------  Class: diningtable      AP:   0.4722  -------\n",
      "-------  Class: dog              AP:   0.6266  -------\n",
      "-------  Class: horse            AP:   0.6238  -------\n",
      "-------  Class: motorbike        AP:   0.6334  -------\n",
      "-------  Class: person           AP:   0.9011  -------\n",
      "-------  Class: pottedplant      AP:   0.2715  -------\n",
      "-------  Class: sheep            AP:   0.3910  -------\n",
      "-------  Class: sofa             AP:   0.4705  -------\n",
      "-------  Class: train            AP:   0.8268  -------\n",
      "-------  Class: tvmonitor        AP:   0.5393  -------\n",
      "mAP: 0.5790\n",
      "Avg loss: 0.13804605632436043\n",
      "Evaluating classifier\n",
      "Mean Precision Score for Testing on Epoch 1 is 0.5789629889116401\n",
      "Starting epoch number 2\n",
      "Loss for Training on Epoch 2 is 0.11965978145599365\n",
      "Starting epoch number 3\n",
      "Loss for Training on Epoch 3 is 0.11075703054666519\n",
      "Starting epoch number 4\n",
      "Loss for Training on Epoch 4 is 0.09857551008462906\n",
      "Starting epoch number 5\n",
      "Loss for Training on Epoch 5 is 0.08286626636981964\n",
      "-------  Class: aeroplane        AP:   0.8706  -------\n",
      "-------  Class: bicycle          AP:   0.7362  -------\n",
      "-------  Class: bird             AP:   0.8402  -------\n",
      "-------  Class: boat             AP:   0.7801  -------\n",
      "-------  Class: bottle           AP:   0.3698  -------\n",
      "-------  Class: bus              AP:   0.6075  -------\n",
      "-------  Class: car              AP:   0.8253  -------\n",
      "-------  Class: cat              AP:   0.7926  -------\n",
      "-------  Class: chair            AP:   0.6196  -------\n",
      "-------  Class: cow              AP:   0.4984  -------\n",
      "-------  Class: diningtable      AP:   0.5988  -------\n",
      "-------  Class: dog              AP:   0.6892  -------\n",
      "-------  Class: horse            AP:   0.7464  -------\n",
      "-------  Class: motorbike        AP:   0.8000  -------\n",
      "-------  Class: person           AP:   0.9080  -------\n",
      "-------  Class: pottedplant      AP:   0.3900  -------\n",
      "-------  Class: sheep            AP:   0.5876  -------\n",
      "-------  Class: sofa             AP:   0.5440  -------\n",
      "-------  Class: train            AP:   0.8974  -------\n",
      "-------  Class: tvmonitor        AP:   0.6534  -------\n",
      "mAP: 0.6878\n",
      "Avg loss: 0.11678753048181534\n",
      "Evaluating classifier\n",
      "Mean Precision Score for Testing on Epoch 5 is 0.6877629374110353\n",
      "Starting epoch number 6\n",
      "Loss for Training on Epoch 6 is 0.07339655607938766\n",
      "Starting epoch number 7\n",
      "Loss for Training on Epoch 7 is 0.06633980572223663\n",
      "Starting epoch number 8\n",
      "Loss for Training on Epoch 8 is 0.0630502924323082\n",
      "Starting epoch number 9\n",
      "Loss for Training on Epoch 9 is 0.051238764077425\n",
      "Starting epoch number 10\n",
      "Loss for Training on Epoch 10 is 0.042402759194374084\n",
      "-------  Class: aeroplane        AP:   0.8642  -------\n",
      "-------  Class: bicycle          AP:   0.7332  -------\n",
      "-------  Class: bird             AP:   0.8465  -------\n",
      "-------  Class: boat             AP:   0.7636  -------\n",
      "-------  Class: bottle           AP:   0.3595  -------\n",
      "-------  Class: bus              AP:   0.5929  -------\n",
      "-------  Class: car              AP:   0.8206  -------\n",
      "-------  Class: cat              AP:   0.7905  -------\n",
      "-------  Class: chair            AP:   0.5864  -------\n",
      "-------  Class: cow              AP:   0.4942  -------\n",
      "-------  Class: diningtable      AP:   0.5756  -------\n",
      "-------  Class: dog              AP:   0.7180  -------\n",
      "-------  Class: horse            AP:   0.7546  -------\n",
      "-------  Class: motorbike        AP:   0.8051  -------\n",
      "-------  Class: person           AP:   0.9047  -------\n",
      "-------  Class: pottedplant      AP:   0.4352  -------\n",
      "-------  Class: sheep            AP:   0.6092  -------\n",
      "-------  Class: sofa             AP:   0.5378  -------\n",
      "-------  Class: train            AP:   0.8928  -------\n",
      "-------  Class: tvmonitor        AP:   0.6439  -------\n",
      "mAP: 0.6864\n",
      "Avg loss: 0.13323927232447794\n",
      "Evaluating classifier\n",
      "Mean Precision Score for Testing on Epoch 10 is 0.6864241762875432\n",
      "Starting epoch number 11\n",
      "Loss for Training on Epoch 11 is 0.03822791948914528\n",
      "Starting epoch number 12\n",
      "Loss for Training on Epoch 12 is 0.03498099744319916\n",
      "Starting epoch number 13\n",
      "Loss for Training on Epoch 13 is 0.031702328473329544\n",
      "Starting epoch number 14\n",
      "Loss for Training on Epoch 14 is 0.024503279477357864\n",
      "Starting epoch number 15\n",
      "Loss for Training on Epoch 15 is 0.02309880219399929\n",
      "-------  Class: aeroplane        AP:   0.8698  -------\n",
      "-------  Class: bicycle          AP:   0.7076  -------\n",
      "-------  Class: bird             AP:   0.8418  -------\n",
      "-------  Class: boat             AP:   0.7540  -------\n",
      "-------  Class: bottle           AP:   0.3660  -------\n",
      "-------  Class: bus              AP:   0.6092  -------\n",
      "-------  Class: car              AP:   0.8192  -------\n",
      "-------  Class: cat              AP:   0.7864  -------\n",
      "-------  Class: chair            AP:   0.5927  -------\n",
      "-------  Class: cow              AP:   0.4771  -------\n",
      "-------  Class: diningtable      AP:   0.6024  -------\n",
      "-------  Class: dog              AP:   0.7236  -------\n",
      "-------  Class: horse            AP:   0.7600  -------\n",
      "-------  Class: motorbike        AP:   0.8072  -------\n",
      "-------  Class: person           AP:   0.9017  -------\n",
      "-------  Class: pottedplant      AP:   0.3945  -------\n",
      "-------  Class: sheep            AP:   0.6332  -------\n",
      "-------  Class: sofa             AP:   0.5323  -------\n",
      "-------  Class: train            AP:   0.8881  -------\n",
      "-------  Class: tvmonitor        AP:   0.6391  -------\n",
      "mAP: 0.6853\n",
      "Avg loss: 0.1560749787033773\n",
      "Evaluating classifier\n",
      "Mean Precision Score for Testing on Epoch 15 is 0.6852945707070914\n",
      "Starting epoch number 16\n",
      "Loss for Training on Epoch 16 is 0.019184060394763947\n",
      "Starting epoch number 17\n",
      "Loss for Training on Epoch 17 is 0.0180763378739357\n",
      "Starting epoch number 18\n",
      "Loss for Training on Epoch 18 is 0.036535508930683136\n",
      "Starting epoch number 19\n",
      "Loss for Training on Epoch 19 is 0.018166402354836464\n",
      "Starting epoch number 20\n",
      "Loss for Training on Epoch 20 is 0.014070983976125717\n",
      "-------  Class: aeroplane        AP:   0.8667  -------\n",
      "-------  Class: bicycle          AP:   0.6904  -------\n",
      "-------  Class: bird             AP:   0.8418  -------\n",
      "-------  Class: boat             AP:   0.7412  -------\n",
      "-------  Class: bottle           AP:   0.3404  -------\n",
      "-------  Class: bus              AP:   0.5949  -------\n",
      "-------  Class: car              AP:   0.8129  -------\n",
      "-------  Class: cat              AP:   0.7892  -------\n",
      "-------  Class: chair            AP:   0.5809  -------\n",
      "-------  Class: cow              AP:   0.4840  -------\n",
      "-------  Class: diningtable      AP:   0.6062  -------\n",
      "-------  Class: dog              AP:   0.7284  -------\n",
      "-------  Class: horse            AP:   0.7579  -------\n",
      "-------  Class: motorbike        AP:   0.8140  -------\n",
      "-------  Class: person           AP:   0.8967  -------\n",
      "-------  Class: pottedplant      AP:   0.4188  -------\n",
      "-------  Class: sheep            AP:   0.6289  -------\n",
      "-------  Class: sofa             AP:   0.5321  -------\n",
      "-------  Class: train            AP:   0.8900  -------\n",
      "-------  Class: tvmonitor        AP:   0.6316  -------\n",
      "mAP: 0.6824\n",
      "Avg loss: 0.1822158405009438\n",
      "Evaluating classifier\n",
      "Mean Precision Score for Testing on Epoch 20 is 0.6823523504625941\n"
     ]
    }
   ],
   "source": [
    "classifier, train_losses, val_losses, train_mAPs, val_mAPs = train(classifier, num_epochs, train_loader, val_loader, criterion, optimizer, test_frequency)"
   ]
  },
  {
   "cell_type": "code",
   "execution_count": 54,
   "metadata": {},
   "outputs": [
    {
     "data": {
      "image/png": "[encoded data removed]",
      "text/plain": [
       "<Figure size 640x480 with 1 Axes>"
      ]
     },
     "metadata": {},
     "output_type": "display_data"
    },
    {
     "data": {
      "image/png": "[encoded data removed]",
      "text/plain": [
       "<Figure size 640x480 with 1 Axes>"
      ]
     },
     "metadata": {},
     "output_type": "display_data"
    }
   ],
   "source": [
    "plot_losses(train_losses, val_losses, test_frequency, num_epochs)\n",
    "plot_mAP(train_mAPs, val_mAPs, test_frequency, num_epochs)"
   ]
  },
  {
   "cell_type": "code",
   "execution_count": 55,
   "metadata": {},
   "outputs": [
    {
     "name": "stdout",
     "output_type": "stream",
     "text": [
      "-------  Class: aeroplane        AP:   0.8648  -------\n",
      "-------  Class: bicycle          AP:   0.7617  -------\n",
      "-------  Class: bird             AP:   0.8256  -------\n",
      "-------  Class: boat             AP:   0.7901  -------\n",
      "-------  Class: bottle           AP:   0.3424  -------\n",
      "-------  Class: bus              AP:   0.6530  -------\n",
      "-------  Class: car              AP:   0.8337  -------\n",
      "-------  Class: cat              AP:   0.7795  -------\n",
      "-------  Class: chair            AP:   0.5654  -------\n",
      "-------  Class: cow              AP:   0.5064  -------\n",
      "-------  Class: diningtable      AP:   0.6256  -------\n",
      "-------  Class: dog              AP:   0.7211  -------\n",
      "-------  Class: horse            AP:   0.8350  -------\n",
      "-------  Class: motorbike        AP:   0.7718  -------\n",
      "-------  Class: person           AP:   0.9133  -------\n",
      "-------  Class: pottedplant      AP:   0.4500  -------\n",
      "-------  Class: sheep            AP:   0.6462  -------\n",
      "-------  Class: sofa             AP:   0.5261  -------\n",
      "-------  Class: train            AP:   0.8768  -------\n",
      "-------  Class: tvmonitor        AP:   0.6158  -------\n",
      "mAP: 0.6952\n",
      "Avg loss: 0.17703728638589383\n",
      "Test mAP:  0.6952150316020032\n"
     ]
    }
   ],
   "source": [
    "mAP_test, test_loss, test_aps = test_classifier(test_loader, classifier, criterion)\n",
    "print(\"Test mAP: \", mAP_test)"
   ]
  },
  {
   "cell_type": "code",
   "execution_count": null,
   "metadata": {},
   "outputs": [],
   "source": []
  }
 ],
 "metadata": {
  "kernelspec": {
   "display_name": "Python3\n(CS697)",
   "language": "python",
   "name": "cs697venv"
  },
  "language_info": {
   "codemirror_mode": {
    "name": "ipython",
    "version": 3
   },
   "file_extension": ".py",
   "mimetype": "text/x-python",
   "name": "python",
   "nbconvert_exporter": "python",
   "pygments_lexer": "ipython3",
   "version": "3.10.6"
  }
 },
 "nbformat": 4,
 "nbformat_minor": 1
}
